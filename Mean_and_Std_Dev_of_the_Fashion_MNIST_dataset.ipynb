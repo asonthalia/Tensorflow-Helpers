{
  "nbformat": 4,
  "nbformat_minor": 0,
  "metadata": {
    "colab": {
      "name": "Mean and Std Dev of the Fashion MNIST dataset",
      "version": "0.3.2",
      "provenance": [],
      "include_colab_link": true
    },
    "kernelspec": {
      "name": "python3",
      "display_name": "Python 3"
    }
  },
  "cells": [
    {
      "cell_type": "markdown",
      "metadata": {
        "id": "view-in-github",
        "colab_type": "text"
      },
      "source": [
        "[View in Colaboratory](https://colab.research.google.com/github/asonthalia/hello-github/blob/master/Mean_and_Std_Dev_of_the_Fashion_MNIST_dataset.ipynb)"
      ]
    },
    {
      "metadata": {
        "id": "s2JstCq0BhMe",
        "colab_type": "code",
        "colab": {}
      },
      "cell_type": "code",
      "source": [
        "import tensorflow as tf\n",
        "import matplotlib.pyplot as plt"
      ],
      "execution_count": 0,
      "outputs": []
    },
    {
      "metadata": {
        "id": "Nptsyjs_fXSb",
        "colab_type": "code",
        "colab": {}
      },
      "cell_type": "code",
      "source": [
        "# Strating an interactive session\n",
        "sess = tf.InteractiveSession()"
      ],
      "execution_count": 0,
      "outputs": []
    },
    {
      "metadata": {
        "id": "6ExJrgwyBv_5",
        "colab_type": "code",
        "colab": {}
      },
      "cell_type": "code",
      "source": [
        "(x_train, y_train), (x_test, y_test) = tf.keras.datasets.fashion_mnist.load_data()"
      ],
      "execution_count": 0,
      "outputs": []
    },
    {
      "metadata": {
        "id": "Q7ovzQnCCqxd",
        "colab_type": "code",
        "colab": {
          "base_uri": "https://localhost:8080/",
          "height": 364
        },
        "outputId": "fb426739-3930-4787-f789-62662b3bc22e"
      },
      "cell_type": "code",
      "source": [
        "plt.imshow(x_train[99])"
      ],
      "execution_count": 28,
      "outputs": [
        {
          "output_type": "execute_result",
          "data": {
            "text/plain": [
              "<matplotlib.image.AxesImage at 0x7f3c2e936940>"
            ]
          },
          "metadata": {
            "tags": []
          },
          "execution_count": 28
        },
        {
          "output_type": "display_data",
          "data": {
            "image/png": "[encoded data removed]",
            "text/plain": [
              "<matplotlib.figure.Figure at 0x7f3c1d9cbc88>"
            ]
          },
          "metadata": {
            "tags": []
          }
        }
      ]
    },
    {
      "metadata": {
        "id": "a3wwpgrlEo-2",
        "colab_type": "code",
        "colab": {
          "base_uri": "https://localhost:8080/",
          "height": 398
        },
        "outputId": "6247a31b-5b11-46df-fc86-291622a794c3"
      },
      "cell_type": "code",
      "source": [
        "# Finding the mean of the dataset\n",
        "# Converting data to a tensorflow constant\n",
        "x_tf = tf.constant(x_train)\n",
        "\n",
        "# Casting uint8 to compatible float64 format\n",
        "x_tf = tf.cast(x_tf, tf.float64)\n",
        "\n",
        "mean = tf.reduce_mean(x_tf, axis = 0)\n",
        "print(\"The tensor of the mean is: \")\n",
        "print(mean)\n",
        "plt.imshow(mean.eval(), cmap = 'gray')"
      ],
      "execution_count": 27,
      "outputs": [
        {
          "output_type": "stream",
          "text": [
            "The tensor of the mean is: \n",
            "Tensor(\"Mean_14:0\", shape=(28, 28), dtype=float64)\n"
          ],
          "name": "stdout"
        },
        {
          "output_type": "execute_result",
          "data": {
            "text/plain": [
              "<matplotlib.image.AxesImage at 0x7f3c1d8485f8>"
            ]
          },
          "metadata": {
            "tags": []
          },
          "execution_count": 27
        },
        {
          "output_type": "display_data",
          "data": {
            "image/png": "[encoded data removed]",
            "text/plain": [
              "<matplotlib.figure.Figure at 0x7f3c1d920940>"
            ]
          },
          "metadata": {
            "tags": []
          }
        }
      ]
    },
    {
      "metadata": {
        "id": "ED6h83hyf1PD",
        "colab_type": "code",
        "colab": {
          "base_uri": "https://localhost:8080/",
          "height": 381
        },
        "outputId": "1b75b5a2-5f7c-456f-b2c9-03b7f24eadb3"
      },
      "cell_type": "code",
      "source": [
        "# Finding the std. deviation of the data\n",
        "# Converting data to a tensorflow constant\n",
        "x_tf = tf.constant(x_train)\n",
        "\n",
        "# Casting uint8 to compatible float64 format\n",
        "x_tf = tf.cast(x_tf, tf.float64)\n",
        "\n",
        "# Calculating standard deviation of the dataset\n",
        "x_std = tf.keras.backend.std(x_tf, axis = 0, keepdims = False)\n",
        "\n",
        "print(\"The standard deviation of the dataset is:\")\n",
        "plt.imshow(x_std.eval(), cmap = 'gray')"
      ],
      "execution_count": 26,
      "outputs": [
        {
          "output_type": "stream",
          "text": [
            "The standard deviation of the dataset is:\n"
          ],
          "name": "stdout"
        },
        {
          "output_type": "execute_result",
          "data": {
            "text/plain": [
              "<matplotlib.image.AxesImage at 0x7f3c1d8e19b0>"
            ]
          },
          "metadata": {
            "tags": []
          },
          "execution_count": 26
        },
        {
          "output_type": "display_data",
          "data": {
            "image/png": "[encoded data removed]",
            "text/plain": [
              "<matplotlib.figure.Figure at 0x7f3c23790400>"
            ]
          },
          "metadata": {
            "tags": []
          }
        }
      ]
    }
  ]
}